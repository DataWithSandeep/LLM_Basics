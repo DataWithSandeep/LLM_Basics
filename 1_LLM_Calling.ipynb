{
 "cells": [
  {
   "cell_type": "markdown",
   "metadata": {},
   "source": [
    "## LangChain divides LLMs in two types\n",
    "1. LLM Model: text-completion model.\n",
    "2. Chat Model: converses with a sequence of messages and can have a particular role defined (system prompt). This type has become the most used in LangChain.\n",
    "3. LLM Model and Chat Model can be combined to create a hybrid model.\n",
    "4. Let See How to call any LLM chat model in a simple way through API and langchain. "
   ]
  },
  {
   "cell_type": "code",
   "execution_count": 9,
   "metadata": {},
   "outputs": [
    {
     "name": "stdout",
     "output_type": "stream",
     "text": [
      "1. Västerås, Sweden\n",
      "2. Malmö, Sweden\n",
      "3. Copenhagen, Denmark\n",
      "4. Innsbruck, Austria\n",
      "5. Hamburg, Germany\n"
     ]
    }
   ],
   "source": [
    "## through ChatGroq models\n",
    "from langchain_groq import ChatGroq\n",
    "from dotenv import load_dotenv\n",
    "load_dotenv()\n",
    "# Ensure the model name is correct; you can replace \"quin model\" with any available Groq model.  \n",
    "# \"temperature\" controls creativity (max 2), and \"token\" sets the max token limit.\n",
    "llmf=ChatGroq(model=\"qwen-2.5-coder-32b\", temperature=0.8, max_tokens=1424)  \n",
    "result = llmf.invoke(\"suggest me 5 cleanist city in world, Only give names of city.\")\n",
    "print(result.content)"
   ]
  },
  {
   "cell_type": "markdown",
   "metadata": {},
   "source": [
    "#### Streaming: printing one chunk of text at a time"
   ]
  },
  {
   "cell_type": "code",
   "execution_count": 8,
   "metadata": {},
   "outputs": [
    {
     "name": "stdout",
     "output_type": "stream",
     "text": [
      "Sure! One fun fact about Chinese people is their rich tradition of calligraphy. Calligraphy, known as \"shufa\" in Chinese, is not only an art form but also a highly respected cultural practice. It involves writing Chinese characters (hanzi) in an aesthetically pleasing way using brushes and ink on paper or silk. This art form has been a cornerstone of Chinese culture for thousands of years and is considered a way to express one's personality and emotions. Many Chinese people, including children, learn calligraphy as part of their cultural education.Sure! One fascinating fact about the Indian people is their incredible linguistic diversity. India is home to over 2,000 spoken languages, with 22 of them recognized as official languages by the Government of India. This linguistic richness reflects the country's vast cultural heritage and its history of assimilating and integrating various groups and traditions. It's a remarkable example of cultural and linguistic pluralism within a single nation."
     ]
    }
   ],
   "source": [
    "for chunk in llmf.stream(\n",
    "    \"Tell me one fun fact about the chinese people.\"\n",
    "):\n",
    "    print(chunk.content, end=\"\", flush=True)\n",
    "\n",
    "for chunk in llmf.stream(\"Tell me one fun fact about the indian people.\"):\n",
    "    print(chunk.content, end=\"\", flush=True)"
   ]
  },
  {
   "cell_type": "markdown",
   "metadata": {},
   "source": [
    "#### Through GoogleGenerativeAI gimini model."
   ]
  },
  {
   "cell_type": "code",
   "execution_count": 18,
   "metadata": {},
   "outputs": [
    {
     "name": "stdout",
     "output_type": "stream",
     "text": [
      "## कुत्ते का योगदान (Dog's Contribution)\n",
      "\n",
      "वफ़ादार दोस्त, निस्वार्थ प्रहरी,\n",
      "मानव समाज का अंग है भारी।\n",
      "चौकन्ना पहरेदार, घर की रक्षा करे,\n",
      "खुशी से दुम हिलाए, प्यार बिखेरे।\n",
      "\n",
      "(Loyal friend, selfless guardian,\n",
      "A significant part of human society.\n",
      "Alert watchman, protects the home,\n"
     ]
    }
   ],
   "source": [
    "from langchain_google_genai import ChatGoogleGenerativeAI\n",
    "from dotenv import load_dotenv\n",
    "load_dotenv()\n",
    "llm = ChatGoogleGenerativeAI(model=\"gemini-1.5-pro\", max_tokens=100)  \n",
    "result=llm.invoke(\"Write a poen on dog contribution on socity in HINDI\")\n",
    "print(result.content)"
   ]
  },
  {
   "cell_type": "markdown",
   "metadata": {},
   "source": [
    "#### Through HuggingFace API"
   ]
  },
  {
   "cell_type": "code",
   "execution_count": 14,
   "metadata": {},
   "outputs": [
    {
     "name": "stdout",
     "output_type": "stream",
     "text": [
      "Capital of Iran is Tehran. As per the Constitution of Iran, the Iranian capital is elected every five years by a vote of the Constituent Assembly. Since its roots date back to Shah Abbas I (1870-1929), the capital has changed several times, with Tehran serving as the capital city since the establishment of the Islamic Republic of Iran. Today, the formal title of Tehran is Masjed-e-Mellat (Palace of Value), which is where the presidency and the other government offices are located.\n",
      "\n",
      "The earliest mentions of Tehran as a city go back to the Persian era when it was called Evin, which was situated near the Tehran River. During the Achaemenid era, Evin was known as Elswastu. The city didn't come under Islamic rule until the lifetime of the Imam Yazid Sufi, who initiated the religious conquest of Iran in the 9th century. The city was subsequently transformed into a Vizierate capital under the Nasserid Son, Yazd Zand, between 1325-1351 CE.\n",
      "\n",
      "Long lists of kings, beginning with Hormizd I, Yazdegerd I, and Shah Wasafi, the latter two rebuilt the city into one of the most important centers for Iranian culture. Imperial Tehran, which is the capital of the Islamic Republic of Iran, was established in the south of the city in the late 14th century. This name has continued to be used till the present day.\n",
      "\n",
      "Tehran's current status as the capital of Iran was acknowledged officially in 1794 and it has remained the country's capital city ever since.\n"
     ]
    }
   ],
   "source": [
    "\n",
    "from langchain_huggingface import ChatHuggingFace,HuggingFaceEndpoint\n",
    "from dotenv import load_dotenv\n",
    "load_dotenv()\n",
    "\n",
    "llm=HuggingFaceEndpoint(repo_id=\"TinyLlama/TinyLlama-1.1B-Chat-v1.0\",\n",
    "                        task=\"text-generation\")\n",
    "\n",
    "model=ChatHuggingFace(llm=llm)\n",
    "\n",
    "ret=model.invoke(\"What is Capital of Iran\")\n",
    "print(ret.content)"
   ]
  },
  {
   "cell_type": "markdown",
   "metadata": {},
   "source": [
    "#### Through downloading  HuggingFace Model and then Calling it."
   ]
  },
  {
   "cell_type": "code",
   "execution_count": 16,
   "metadata": {},
   "outputs": [
    {
     "name": "stderr",
     "output_type": "stream",
     "text": [
      "Device set to use cpu\n",
      "c:\\sandeep\\Personal_Bit\\Euron\\SandeepLLms\\sllm\\Lib\\site-packages\\transformers\\generation\\configuration_utils.py:628: UserWarning: `do_sample` is set to `False`. However, `temperature` is set to `0.5` -- this flag is only used in sample-based generation modes. You should set `do_sample=True` or unset `temperature`.\n",
      "  warnings.warn(\n"
     ]
    },
    {
     "name": "stdout",
     "output_type": "stream",
     "text": [
      "<|user|>\n",
      "tell about indian history, in short</s>\n",
      "<|assistant|>\n",
      "Indian history is a rich and diverse tapestry of cultures, religions, and civilizations that have shaped the country's identity and heritage. Here's a brief overview of some of the most significant events and periods in Indian history:\n",
      "\n",
      "1. Vedic period (c. 1500 BCE - 1000 BCE): This period is known for the development of the Vedas, a collection of hymns and\n"
     ]
    }
   ],
   "source": [
    "from langchain_huggingface import ChatHuggingFace, HuggingFacePipeline\n",
    "llm=HuggingFacePipeline.from_model_id(\n",
    "    model_id=\"TinyLlama/TinyLlama-1.1B-Chat-v1.0\",\n",
    "    task='text-generation',\n",
    "    pipeline_kwargs=dict( temperature =0.5, max_new_tokens=100\n",
    "    )\n",
    ")\n",
    "\n",
    "result=ChatHuggingFace(llm=llm)\n",
    "kk=result.invoke(\"tell about indian history, in short\")\n",
    "print(kk.content)"
   ]
  },
  {
   "cell_type": "code",
   "execution_count": null,
   "metadata": {},
   "outputs": [],
   "source": []
  }
 ],
 "metadata": {
  "kernelspec": {
   "display_name": "sllm",
   "language": "python",
   "name": "python3"
  },
  "language_info": {
   "codemirror_mode": {
    "name": "ipython",
    "version": 3
   },
   "file_extension": ".py",
   "mimetype": "text/x-python",
   "name": "python",
   "nbconvert_exporter": "python",
   "pygments_lexer": "ipython3",
   "version": "3.12.0"
  }
 },
 "nbformat": 4,
 "nbformat_minor": 2
}
